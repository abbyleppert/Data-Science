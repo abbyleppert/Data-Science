{
  "nbformat": 4,
  "nbformat_minor": 0,
  "metadata": {
    "colab": {
      "provenance": [],
      "authorship_tag": "ABX9TyN5TKSVC94AJW1p3OMEglbO",
      "include_colab_link": true
    },
    "kernelspec": {
      "name": "python3",
      "display_name": "Python 3"
    },
    "language_info": {
      "name": "python"
    }
  },
  "cells": [
    {
      "cell_type": "markdown",
      "metadata": {
        "id": "view-in-github",
        "colab_type": "text"
      },
      "source": [
        "<a href=\"https://colab.research.google.com/github/abbyleppert/Data-Science/blob/main/Abigail_Leppert_midterm_(turn_this_one_in).ipynb\" target=\"_parent\"><img src=\"https://colab.research.google.com/assets/colab-badge.svg\" alt=\"Open In Colab\"/></a>"
      ]
    },
    {
      "cell_type": "code",
      "execution_count": 20,
      "metadata": {
        "id": "c7ymBHiZQ9wM"
      },
      "outputs": [],
      "source": [
        "import numpy as np #imports numpy, use np to import numpy\n",
        "import matplotlib.pyplot as plt #imports matplotlib.pyplot, to use, use plt.plot"
      ]
    },
    {
      "cell_type": "code",
      "source": [
        "X = np.array([12,9,20,7,2]) # arranges numbers from the diameter from cd - key ring to be x   \n",
        "Y = np.array([38,28,63,22,6])# arrnages numbers from the circumfrence from cd - key ring to be y"
      ],
      "metadata": {
        "id": "eBJMxo-oRHK7"
      },
      "execution_count": 21,
      "outputs": []
    },
    {
      "cell_type": "code",
      "source": [
        "plt.plot(X,Y,'b.') # plots x,y( the circumfrence and diemeter of the 5 objects)"
      ],
      "metadata": {
        "colab": {
          "base_uri": "https://localhost:8080/",
          "height": 283
        },
        "id": "nGecpBwURHHl",
        "outputId": "63f6b0ce-b45e-4471-dbbd-4f30cef5f189"
      },
      "execution_count": 22,
      "outputs": [
        {
          "output_type": "execute_result",
          "data": {
            "text/plain": [
              "[<matplotlib.lines.Line2D at 0x7fcfcc1d1450>]"
            ]
          },
          "metadata": {},
          "execution_count": 22
        },
        {
          "output_type": "display_data",
          "data": {
            "text/plain": [
              "<Figure size 432x288 with 1 Axes>"
            ],
            "image/png": "[encoded data removed]"
          },
          "metadata": {
            "needs_background": "light"
          }
        }
      ]
    },
    {
      "cell_type": "code",
      "source": [
        "m_guess = 0 #uses m_guess to generate a random number, in this case is 0\n",
        "b_guess = 0 # uses b_guess to generate a random number, in this case is 0"
      ],
      "metadata": {
        "id": "RmbWDtJRRHCi"
      },
      "execution_count": 23,
      "outputs": []
    },
    {
      "cell_type": "markdown",
      "source": [
        "$Y=mx+b$\n",
        "- slope formula "
      ],
      "metadata": {
        "id": "VQE5alDUSx6r"
      }
    },
    {
      "cell_type": "code",
      "source": [
        "m_guess * X + b_guess # slope formula being made "
      ],
      "metadata": {
        "colab": {
          "base_uri": "https://localhost:8080/"
        },
        "id": "LR441Yn9RG_L",
        "outputId": "de1a8245-da87-4290-bef8-6b83a9b8b76f"
      },
      "execution_count": 24,
      "outputs": [
        {
          "output_type": "execute_result",
          "data": {
            "text/plain": [
              "array([0, 0, 0, 0, 0])"
            ]
          },
          "metadata": {},
          "execution_count": 24
        }
      ]
    },
    {
      "cell_type": "code",
      "source": [
        "y_guess = m_guess * X + b_guess # y_guess is now mx+b "
      ],
      "metadata": {
        "id": "ouFpAQZuRG8j"
      },
      "execution_count": 25,
      "outputs": []
    },
    {
      "cell_type": "code",
      "source": [
        "y_guess - Y # subtract from our data to see the difference "
      ],
      "metadata": {
        "colab": {
          "base_uri": "https://localhost:8080/"
        },
        "id": "kEgunuW_RG0z",
        "outputId": "8d620d9f-da47-459f-d161-0755a517f590"
      },
      "execution_count": 26,
      "outputs": [
        {
          "output_type": "execute_result",
          "data": {
            "text/plain": [
              "array([-38, -28, -63, -22,  -6])"
            ]
          },
          "metadata": {},
          "execution_count": 26
        }
      ]
    },
    {
      "cell_type": "code",
      "source": [
        "(y_guess - Y)**2 # square because we dont want negatives, ** squares the parenthesis "
      ],
      "metadata": {
        "colab": {
          "base_uri": "https://localhost:8080/"
        },
        "id": "TVeYMmS7UPgc",
        "outputId": "4e802b68-9c8f-4ecf-b33d-bf6d196674d2"
      },
      "execution_count": 27,
      "outputs": [
        {
          "output_type": "execute_result",
          "data": {
            "text/plain": [
              "array([1444,  784, 3969,  484,   36])"
            ]
          },
          "metadata": {},
          "execution_count": 27
        }
      ]
    },
    {
      "cell_type": "code",
      "source": [
        "np.sum((y_guess - Y)**2) # sum, squares best fit"
      ],
      "metadata": {
        "colab": {
          "base_uri": "https://localhost:8080/"
        },
        "id": "S6Ak0x50UPcK",
        "outputId": "1d75a8cd-330e-418a-b371-7557096150f2"
      },
      "execution_count": 28,
      "outputs": [
        {
          "output_type": "execute_result",
          "data": {
            "text/plain": [
              "6717"
            ]
          },
          "metadata": {},
          "execution_count": 28
        }
      ]
    },
    {
      "cell_type": "code",
      "source": [
        "loss = np.sum(((y_guess - Y)**2)) # the loss is the squares best fit "
      ],
      "metadata": {
        "id": "N0oAYNP5UPW6"
      },
      "execution_count": 29,
      "outputs": []
    },
    {
      "cell_type": "code",
      "source": [
        "best_loss_so_far = 10000000000 # leats squared error\n",
        "\n",
        "m_best = 0 # same thing as m_guess but with best \n",
        "b_best = 0 # same thing as b_guess but with best \n",
        "\n",
        "for m_guess in np.linspace(-100,100,100): # going from -100 to 100 with 100 steps in between\n",
        "  for b_guess in np.linspace(-100,100,100): # going from -100 to 100 with 100 steps in between\n",
        "\n",
        "    y_guess = m_guess * X + b_guess # y_guess is y=mx+b\n",
        "\n",
        "    loss = np.sum((y_guess - Y)**2) # squares best fit \n",
        "\n",
        "    if loss < best_loss_so_far: # finds the better fit out of the 100 numbers \n",
        "      m_best = m_guess\n",
        "      b_best = b_guess\n",
        "      best_loss_so_far = loss # best loss so far shortened to loss \n",
        "\n",
        "print(\"Found better fit:\") # prints found better fit with the better fit\n",
        "print(m_best,b_best,loss) # gives the order in which the better fit should be said in\n",
        "\n",
        "\n"
      ],
      "metadata": {
        "colab": {
          "base_uri": "https://localhost:8080/"
        },
        "id": "ZxSn7hPlUPUK",
        "outputId": "bbc29203-17ca-4bbc-a44d-ee54db3ae144"
      },
      "execution_count": 30,
      "outputs": [
        {
          "output_type": "stream",
          "name": "stdout",
          "text": [
            "Found better fit:\n",
            "3.030303030303031 1.0101010101010104 7378517.0\n"
          ]
        }
      ]
    },
    {
      "cell_type": "code",
      "source": [
        "# slope is pie( the three), c=(pie)d= y=mx+b "
      ],
      "metadata": {
        "id": "LHUniCzUUPPT"
      },
      "execution_count": 13,
      "outputs": []
    },
    {
      "cell_type": "markdown",
      "source": [
        "Question 1: \n",
        "What do  𝑚  and  𝑏  represent in these equations?\n",
        "\n",
        "- m represents the slope of the line, from there, the slope determines how straight/steep the line is. b represents the y interecept of the line. Slope is also pie and c=(pie)d is equivelent to y=mx+b"
      ],
      "metadata": {
        "id": "vUB7CjkTtVKs"
      }
    },
    {
      "cell_type": "markdown",
      "source": [
        "Question 2: Guess what the correct values  𝑚  and  𝑏  should be.\n",
        "- b should be 3\n",
        "-m should be 1"
      ],
      "metadata": {
        "id": "OSbr03HTthn5"
      }
    },
    {
      "cell_type": "markdown",
      "source": [
        "Question 3: Does it make sense to include  𝑏  in the parameters?\n",
        "\n",
        "- yes, sicne the b is the intercept, you need it to have the best line of fit. "
      ],
      "metadata": {
        "id": "oWjM6xZttxCA"
      }
    },
    {
      "cell_type": "code",
      "source": [],
      "metadata": {
        "id": "eadttD55thHi"
      },
      "execution_count": null,
      "outputs": []
    },
    {
      "cell_type": "code",
      "source": [],
      "metadata": {
        "id": "DKZausg5tg6x"
      },
      "execution_count": null,
      "outputs": []
    }
  ]
}